{
 "cells": [
  {
   "cell_type": "markdown",
   "metadata": {},
   "source": [
    "# Tweemotion\n",
    "\n",
    "### Info 154\n",
    "### Yoon Sung Hong, Karam Mukhtar"
   ]
  },
  {
   "cell_type": "markdown",
   "metadata": {},
   "source": [
    "# Twitter Auto-Data Scraping"
   ]
  },
  {
   "cell_type": "code",
   "execution_count": null,
   "metadata": {},
   "outputs": [],
   "source": [
    "import tweepy\n",
    "import pandas as pd"
   ]
  },
  {
   "cell_type": "markdown",
   "metadata": {},
   "source": [
    "### Upload a file with the keys from Twitter saved in them "
   ]
  },
  {
   "cell_type": "code",
   "execution_count": null,
   "metadata": {},
   "outputs": [],
   "source": [
    "import json\n",
    "key_file = 'keys.json'\n",
    "# Loading your keys from keys.json (which you should have filled\n",
    "# in in question 1):\n",
    "with open(key_file) as f:\n",
    "    keys = json.load(f)\n",
    "# if you print or view the contents of keys be sure to delete the cell!\n",
    "\n",
    "import tweepy\n",
    "from tweepy import TweepError\n",
    "import logging\n",
    "\n",
    "try:\n",
    "    auth = tweepy.OAuthHandler(keys[\"consumer_key\"], keys[\"consumer_secret\"])\n",
    "    auth.set_access_token(keys[\"access_token\"], keys[\"access_token_secret\"])\n",
    "    api = tweepy.API(auth, wait_on_rate_limit=True)\n",
    "    print(\"Your username is:\", api.auth.get_username())\n",
    "except TweepError as e:\n",
    "    logging.warning(\"There was a Tweepy error. Double check your API keys and try again.\")\n",
    "    logging.warning(e)"
   ]
  },
  {
   "cell_type": "code",
   "execution_count": null,
   "metadata": {},
   "outputs": [],
   "source": [
    "def load_keys(path):\n",
    "    \"\"\"Loads your Twitter authentication keys from a file on disk.\n",
    "    \n",
    "    Args:\n",
    "        path (str): The path to your key file.  The file should\n",
    "          be in JSON format and look like this (but filled in):\n",
    "            {\n",
    "                \"consumer_key\": \"<your Consumer Key here>\",\n",
    "                \"consumer_secret\":  \"<your Consumer Secret here>\",\n",
    "                \"access_token\": \"<your Access Token here>\",\n",
    "                \"access_token_secret\": \"<your Access Token Secret here>\"\n",
    "            }\n",
    "    \n",
    "    Returns:\n",
    "        dict: A dictionary mapping key names (like \"consumer_key\") to\n",
    "          key values.\"\"\"\n",
    "    import json\n",
    "    with open(path) as f:\n",
    "        return json.load(f)\n",
    "\n",
    "def download_recent_tweets_by_user(user_account_name, keys):\n",
    "    \"\"\"Downloads tweets by one Twitter user.\n",
    "\n",
    "    Args:\n",
    "        user_account_name (str): The name of the Twitter account\n",
    "          whose tweets will be downloaded.\n",
    "        keys (dict): A Python dictionary with Twitter authentication\n",
    "          keys (strings), like this (but filled in):\n",
    "            {\n",
    "                \"consumer_key\": \"<your Consumer Key here>\",\n",
    "                \"consumer_secret\":  \"<your Consumer Secret here>\",\n",
    "                \"access_token\": \"<your Access Token here>\",\n",
    "                \"access_token_secret\": \"<your Access Token Secret here>\"\n",
    "            }\n",
    "\n",
    "    Returns:\n",
    "        list: A list of Status objects, each representing one tweet.\"\"\"\n",
    "    import tweepy\n",
    "\n",
    "    # Authenticating:\n",
    "    auth = tweepy.OAuthHandler(keys[\"consumer_key\"], keys[\"consumer_secret\"])\n",
    "    auth.set_access_token(keys[\"access_token\"], keys[\"access_token_secret\"])\n",
    "    api = tweepy.API(auth, wait_on_rate_limit=True)\n",
    "\n",
    "    # Getting as many recent tweets as Twitter will let us have for the account:\n",
    "    return list(tweepy.Cursor(api.user_timeline, id=user_account_name,tweet_mode='extended').items())\n",
    "\n",
    "\n",
    "def save_tweets(tweets, path):\n",
    "    \"\"\"Saves a list of tweets to a file in the local filesystem.\n",
    "    \n",
    "    This function makes no guarantee about the format of the saved\n",
    "    tweets, **except** that calling load_tweets(path) after\n",
    "    save_tweets(tweets, path) will produce the same list of tweets\n",
    "    and that only the file at the given path is used to store the\n",
    "    tweets.  (That means you can implement this function however\n",
    "    you want, as long as saving and loading works!)\n",
    "\n",
    "    Args:\n",
    "        tweets (list): A list of tweet objects (of type Status) to\n",
    "          be saved.\n",
    "        path (str): The place where the tweets will be saved.\n",
    "\n",
    "    Returns:\n",
    "        None\"\"\"\n",
    "# Saving the tweets to a file as \"pickled\" objects:\n",
    "    with open(path, \"wb\") as f:    \n",
    "        import pickle\n",
    "        pickle.dump(tweets, f)\n",
    "        return\n",
    "    \n",
    "def load_tweets(path):\n",
    "    \"\"\"Loads tweets that have previously been saved.\n",
    "    \n",
    "    Calling load_tweets(path) after save_tweets(tweets, path)\n",
    "    will produce the same list of tweets.\n",
    "    \n",
    "    Args:\n",
    "        path (str): The place where the tweets were be saved.\n",
    "\n",
    "    Returns:\n",
    "        list: A list of Status objects, each representing one tweet.\"\"\"\n",
    "    # Re-loading the results:\n",
    "    with open(path, \"rb\") as f:\n",
    "        import pickle\n",
    "        return pickle.load(f)\n",
    "    \n",
    "\n",
    "def get_tweets_with_cache(user_account_name, keys_path):\n",
    "    \"\"\"Get recent tweets from one user, loading from a disk cache if available.\n",
    "    \n",
    "    The first time you call this function, it will download tweets by\n",
    "    a user.  Subsequent calls will not re-download the tweets; instead\n",
    "    they'll load the tweets from a save file in your local filesystem.\n",
    "    All this is done using the functions you defined in the previous cell.\n",
    "    This has benefits and drawbacks that often appear when you cache data:\n",
    "    \n",
    "    +: Using this function will prevent extraneous usage of the Twitter API.\n",
    "    +: You will get your data much faster after the first time it's called.\n",
    "    -: If you really want to re-download the tweets (say, to get newer ones,\n",
    "       or because you screwed up something in the previous cell and your\n",
    "       tweets aren't what you wanted), you'll have to find the save file\n",
    "       (which will look like <something>_recent_tweets.pkl) and delete it.\n",
    "    \n",
    "    Args:\n",
    "        user_account_name (str): The Twitter handle of a user, without the @.\n",
    "        keys_path (str): The path to a JSON keys file in your filesystem.\n",
    "    \"\"\"\n",
    "    from pathlib import Path\n",
    "    \n",
    "    tweets_save_path = \"{0}_recent_tweets.pkl\".format(user_account_name)\n",
    "    if Path(tweets_save_path).is_file():\n",
    "        return load_tweets(tweets_save_path)\n",
    "        \n",
    "    else:\n",
    "        curr_keys = load_keys(keys_path)\n",
    "        recent_tweets = download_recent_tweets_by_user(user_account_name, curr_keys)\n",
    "        save_tweets(recent_tweets, tweets_save_path)\n",
    "        return load_tweets(tweets_save_path)"
   ]
  },
  {
   "cell_type": "markdown",
   "metadata": {},
   "source": [
    "### Pulling the list of twitter usernames using api"
   ]
  },
  {
   "cell_type": "markdown",
   "metadata": {},
   "source": [
    "#### Republican senators + governors"
   ]
  },
  {
   "cell_type": "code",
   "execution_count": null,
   "metadata": {},
   "outputs": [],
   "source": [
    "rep_gov_sen = []\n",
    "for member in tweepy.Cursor(api.list_members, 'The_RGA', 'gop-governors').items():\n",
    "    rep_gov_sen.append(member.screen_name)\n",
    "for member in tweepy.Cursor(api.list_members, 'SenateGOP', 'senaterepublicans').items():\n",
    "    rep_gov_sen.append(member.screen_name)"
   ]
  },
  {
   "cell_type": "markdown",
   "metadata": {},
   "source": [
    "#### Republican house"
   ]
  },
  {
   "cell_type": "code",
   "execution_count": null,
   "metadata": {},
   "outputs": [],
   "source": [
    "rep_house = []\n",
    "for member in tweepy.Cursor(api.list_members, 'housegop', 'house-republicans').items():\n",
    "    rep_house.append(member.screen_name)"
   ]
  },
  {
   "cell_type": "markdown",
   "metadata": {},
   "source": [
    "#### Democrat senators + governors"
   ]
  },
  {
   "cell_type": "code",
   "execution_count": null,
   "metadata": {},
   "outputs": [],
   "source": [
    "dem_gov_sen = []\n",
    "for member in tweepy.Cursor(api.list_members, 'TheDemocrats', 'democratic-governors').items():\n",
    "    dem_gov_sen.append(member.screen_name)\n",
    "for member in tweepy.Cursor(api.list_members, 'TheDemocrats', 'senate-democrats').items():\n",
    "    dem_gov_sen.append(member.screen_name)"
   ]
  },
  {
   "cell_type": "markdown",
   "metadata": {},
   "source": [
    "#### Democrat house"
   ]
  },
  {
   "cell_type": "code",
   "execution_count": null,
   "metadata": {},
   "outputs": [],
   "source": [
    "dem_house = []\n",
    "for member in tweepy.Cursor(api.list_members, 'TheDemocrats', 'house-democrats').items():\n",
    "    dem_house.append(member.screen_name)"
   ]
  },
  {
   "cell_type": "markdown",
   "metadata": {},
   "source": [
    "### Data collection using api"
   ]
  },
  {
   "cell_type": "markdown",
   "metadata": {},
   "source": [
    "Example code demonstrated below only shows the collection from republican senators and governors. Note that we applied it to all four of the lists above for data collection in practice."
   ]
  },
  {
   "cell_type": "code",
   "execution_count": null,
   "metadata": {},
   "outputs": [],
   "source": [
    "tweet_list = []\n",
    "for user in rep_gov_sen:\n",
    "    curr_tweets = get_tweets_with_cache(user, key_file)\n",
    "    print(\"Number of tweets downloaded:\", len(curr_tweets))   \n",
    "    tweet_list += curr_tweets    "
   ]
  },
  {
   "cell_type": "code",
   "execution_count": null,
   "metadata": {},
   "outputs": [],
   "source": [
    "ids = []\n",
    "times = []\n",
    "sources = []\n",
    "texts = []\n",
    "favorite_count = []\n",
    "retweet_counts = []\n",
    "user = []\n",
    "\n",
    "for tweet in tweet_list:\n",
    "    ids.append(tweet.id_str)\n",
    "    times.append(tweet.created_at)\n",
    "    sources.append(tweet.source)\n",
    "    texts.append(tweet.full_text)\n",
    "    retweet_counts.append(tweet.retweet_count)\n",
    "    favorite_count.append(tweet.favorite_count)\n",
    "    user.append(tweet.user)\n",
    "    \n",
    "formatted_tweets = pd.DataFrame(\n",
    "    data={'id': ids,\n",
    "          'time': times,\n",
    "          'source': sources,\n",
    "          'text': texts,\n",
    "          'retweet_count': retweet_counts,\n",
    "          'favorite_count' : favorite_count,\n",
    "          'user' : user\n",
    "          })\n",
    "formatted_tweets = formatted_tweets.set_index(\"id\")"
   ]
  },
  {
   "cell_type": "code",
   "execution_count": null,
   "metadata": {},
   "outputs": [],
   "source": [
    "def splitting(x):\n",
    "    befor_keyowrd, keyword, after_keyword = str(x).partition(\"'screen_name': \")\n",
    "    return after_keyword"
   ]
  },
  {
   "cell_type": "code",
   "execution_count": null,
   "metadata": {},
   "outputs": [],
   "source": [
    "formatted_tweets[\"user\"] = formatted_tweets[\"user\"].apply(lambda x: splitting(x).split(\",\")[0].replace(\"'\", ''))"
   ]
  },
  {
   "cell_type": "code",
   "execution_count": null,
   "metadata": {},
   "outputs": [],
   "source": [
    "formatted_tweets.to_csv(\"GOP_gov_senator.csv\")"
   ]
  },
  {
   "cell_type": "markdown",
   "metadata": {},
   "source": [
    "# Data Cleaning and Preprocessing"
   ]
  },
  {
   "cell_type": "markdown",
   "metadata": {},
   "source": [
    "The actual cleaning was done on all data, but for this demonstration, we will show it only in context of one part of our dataset, the democrat governors and senators.  \n",
    "\n",
    "This is because the latter portion of this (the RNN modeling) required AWS computing and was done on a separate notebook. Our preprocessing steps were done and prepared separately on our own laptops; we saved the preprocessed data as a csv and imported it directly to the AWS to be used for RNN."
   ]
  },
  {
   "cell_type": "code",
   "execution_count": 49,
   "metadata": {},
   "outputs": [
    {
     "name": "stdout",
     "output_type": "stream",
     "text": [
      "Requirement already satisfied: lxml in /home/ubuntu/miniconda3/envs/gluon/lib/python3.6/site-packages (4.3.3)\r\n"
     ]
    }
   ],
   "source": [
    "!python3 -m pip install lxml"
   ]
  },
  {
   "cell_type": "code",
   "execution_count": 43,
   "metadata": {},
   "outputs": [],
   "source": [
    "import lxml"
   ]
  },
  {
   "cell_type": "code",
   "execution_count": 50,
   "metadata": {},
   "outputs": [],
   "source": [
    "#imports\n",
    "import pandas as pd\n",
    "import pandas as pd\n",
    "import re\n",
    "import nltk\n",
    "import nltk\n",
    "from nltk.corpus import stopwords\n",
    "from nltk.tokenize import WordPunctTokenizer\n",
    "import warnings\n",
    "warnings.filterwarnings('ignore')\n",
    "import re\n",
    "import lxml\n",
    "from bs4 import BeautifulSoup"
   ]
  },
  {
   "cell_type": "code",
   "execution_count": 36,
   "metadata": {},
   "outputs": [],
   "source": [
    "tweets = pd.read_csv('dem_gov_sen.csv')"
   ]
  },
  {
   "cell_type": "code",
   "execution_count": null,
   "metadata": {},
   "outputs": [],
   "source": [
    "tweets = tweets[tweets.text.isnull() == False]"
   ]
  },
  {
   "cell_type": "code",
   "execution_count": 38,
   "metadata": {},
   "outputs": [
    {
     "data": {
      "text/html": [
       "<div>\n",
       "<style scoped>\n",
       "    .dataframe tbody tr th:only-of-type {\n",
       "        vertical-align: middle;\n",
       "    }\n",
       "\n",
       "    .dataframe tbody tr th {\n",
       "        vertical-align: top;\n",
       "    }\n",
       "\n",
       "    .dataframe thead th {\n",
       "        text-align: right;\n",
       "    }\n",
       "</style>\n",
       "<table border=\"1\" class=\"dataframe\">\n",
       "  <thead>\n",
       "    <tr style=\"text-align: right;\">\n",
       "      <th></th>\n",
       "      <th>id</th>\n",
       "      <th>time</th>\n",
       "      <th>source</th>\n",
       "      <th>text</th>\n",
       "      <th>retweet_count</th>\n",
       "      <th>favorite_count</th>\n",
       "      <th>user</th>\n",
       "    </tr>\n",
       "  </thead>\n",
       "  <tbody>\n",
       "    <tr>\n",
       "      <th>0</th>\n",
       "      <td>1115311440989184000</td>\n",
       "      <td>2019-04-08 17:52:23</td>\n",
       "      <td>TweetDeck</td>\n",
       "      <td>Get well soon, Assemblyman. @SeanMRyan149 http...</td>\n",
       "      <td>2.0</td>\n",
       "      <td>12.0</td>\n",
       "      <td>NYGovCuomo</td>\n",
       "    </tr>\n",
       "    <tr>\n",
       "      <th>1</th>\n",
       "      <td>1115298202092298241</td>\n",
       "      <td>2019-04-08 16:59:47</td>\n",
       "      <td>Twitter Web Client</td>\n",
       "      <td>This report is deeply alarming and goes agains...</td>\n",
       "      <td>39.0</td>\n",
       "      <td>133.0</td>\n",
       "      <td>NYGovCuomo</td>\n",
       "    </tr>\n",
       "    <tr>\n",
       "      <th>2</th>\n",
       "      <td>1114890416913092608</td>\n",
       "      <td>2019-04-07 13:59:23</td>\n",
       "      <td>TweetDeck</td>\n",
       "      <td>One of the big wins in the budget was the pass...</td>\n",
       "      <td>29.0</td>\n",
       "      <td>96.0</td>\n",
       "      <td>NYGovCuomo</td>\n",
       "    </tr>\n",
       "    <tr>\n",
       "      <th>3</th>\n",
       "      <td>1114667816941162497</td>\n",
       "      <td>2019-04-06 23:14:51</td>\n",
       "      <td>Twitter Web Client</td>\n",
       "      <td>We have to act quickly to fight climate change...</td>\n",
       "      <td>75.0</td>\n",
       "      <td>169.0</td>\n",
       "      <td>NYGovCuomo</td>\n",
       "    </tr>\n",
       "    <tr>\n",
       "      <th>4</th>\n",
       "      <td>1114546662112923648</td>\n",
       "      <td>2019-04-06 15:13:26</td>\n",
       "      <td>Twitter Media Studio</td>\n",
       "      <td>New York just make some important changes to o...</td>\n",
       "      <td>40.0</td>\n",
       "      <td>129.0</td>\n",
       "      <td>NYGovCuomo</td>\n",
       "    </tr>\n",
       "  </tbody>\n",
       "</table>\n",
       "</div>"
      ],
      "text/plain": [
       "                    id                 time                source  \\\n",
       "0  1115311440989184000  2019-04-08 17:52:23             TweetDeck   \n",
       "1  1115298202092298241  2019-04-08 16:59:47    Twitter Web Client   \n",
       "2  1114890416913092608  2019-04-07 13:59:23             TweetDeck   \n",
       "3  1114667816941162497  2019-04-06 23:14:51    Twitter Web Client   \n",
       "4  1114546662112923648  2019-04-06 15:13:26  Twitter Media Studio   \n",
       "\n",
       "                                                text  retweet_count  \\\n",
       "0  Get well soon, Assemblyman. @SeanMRyan149 http...            2.0   \n",
       "1  This report is deeply alarming and goes agains...           39.0   \n",
       "2  One of the big wins in the budget was the pass...           29.0   \n",
       "3  We have to act quickly to fight climate change...           75.0   \n",
       "4  New York just make some important changes to o...           40.0   \n",
       "\n",
       "   favorite_count        user  \n",
       "0            12.0  NYGovCuomo  \n",
       "1           133.0  NYGovCuomo  \n",
       "2            96.0  NYGovCuomo  \n",
       "3           169.0  NYGovCuomo  \n",
       "4           129.0  NYGovCuomo  "
      ]
     },
     "execution_count": 38,
     "metadata": {},
     "output_type": "execute_result"
    }
   ],
   "source": [
    "tweets.head()"
   ]
  },
  {
   "cell_type": "code",
   "execution_count": 59,
   "metadata": {},
   "outputs": [],
   "source": [
    "tok = WordPunctTokenizer()\n",
    "pat1 = r'@[A-Za-z0-9]+'\n",
    "pat2 = r'https?://[A-Za-z0-9./]+'\n",
    "combined_pat = r'|'.join((pat1, pat2))\n",
    "\n",
    "def tweet_cleaner(text):\n",
    "    soup = BeautifulSoup(text, 'lxml')\n",
    "    souped = soup.get_text()\n",
    "    stripped = re.sub(combined_pat, '', souped)\n",
    "    try:\n",
    "        clean = stripped.decode(\"utf-8-sig\").replace(u\"\\ufffd\", \"?\")\n",
    "    except:\n",
    "        clean = stripped\n",
    "    letters_only = re.sub(\"[^a-zA-Z]\", \" \", clean)\n",
    "    lower_case = letters_only.lower()\n",
    "    # During the letters_only process two lines above, it has created unnecessay white spaces,\n",
    "    # I will tokenize and join together to remove unneccessary white spaces\n",
    "    words = tok.tokenize(lower_case)\n",
    "    return (\" \".join(words)).strip()"
   ]
  },
  {
   "cell_type": "markdown",
   "metadata": {},
   "source": [
    "The code ran successfully on our laptops, but failed to run on AWS since it is not a MAC OSX environment. If you want to see the results after the whole preprocessing steps, you can find it in df.head() portion in the **filtered_w_stop_text** and **filtered_text** columns in the Sentence Embeddings section."
   ]
  },
  {
   "cell_type": "code",
   "execution_count": null,
   "metadata": {},
   "outputs": [],
   "source": [
    "testing = tweets[\"text\"]\n",
    "test_result = []\n",
    "for t in testing:\n",
    "    test_result.append(tweet_cleaner(t))\n",
    "test_result"
   ]
  },
  {
   "cell_type": "code",
   "execution_count": null,
   "metadata": {},
   "outputs": [],
   "source": [
    "stopWords = set(stopwords.words('english'))\n",
    "stopWords = list(stopWords)\n",
    "stopWords.append('rt')\n",
    "\n",
    "def clean_tweet(tweet):\n",
    "    spaced = re.split('\\W+', tweet)\n",
    "    cleaned = [i for i in spaced if i not in stops_to_remove]\n",
    "    return cleaned"
   ]
  },
  {
   "cell_type": "code",
   "execution_count": null,
   "metadata": {},
   "outputs": [],
   "source": [
    "preprocessed_tweets = pd.DataFrame({\"nltk\":test_result}) \n",
    "tweets[\"filtered_text\"] = preprocessed_tweets[\"nltk\"].apply(lambda x: clean_tweet(x))"
   ]
  },
  {
   "cell_type": "code",
   "execution_count": null,
   "metadata": {},
   "outputs": [],
   "source": [
    "tweets[\"filtered_w_stop_text\"] = preprocessed_tweets.nltk.apply(lambda x: re.split('\\W+', x))"
   ]
  },
  {
   "cell_type": "markdown",
   "metadata": {},
   "source": [
    "# Sentence Embeddings generation using InferSent (Bi-Directional RNN)\n",
    "\n",
    "Infersent is a method using bi-directional LSTM to get sentence embeddings. We apply this on our preprocessed tweet data to get a 4096-dimensional representation of each tweet.\n",
    "\n",
    "For this part, you actually need to clone the InferSent repository made by facebook. The repo git link is the following:  \n",
    "https://github.com/facebookresearch/InferSent.git\n",
    "\n",
    "Our code was run in the directory of Infersent/Encoder. "
   ]
  },
  {
   "cell_type": "code",
   "execution_count": 1,
   "metadata": {},
   "outputs": [
    {
     "name": "stdout",
     "output_type": "stream",
     "text": [
      "Requirement already satisfied: torch in /home/ubuntu/miniconda3/envs/gluon/lib/python3.6/site-packages (1.1.0)\r\n",
      "Requirement already satisfied: numpy in /home/ubuntu/miniconda3/envs/gluon/lib/python3.6/site-packages (from torch) (1.14.6)\r\n"
     ]
    }
   ],
   "source": [
    "!pip install torch"
   ]
  },
  {
   "cell_type": "code",
   "execution_count": 2,
   "metadata": {},
   "outputs": [],
   "source": [
    "# import stuff\n",
    "%load_ext autoreload\n",
    "%autoreload 2\n",
    "%matplotlib inline\n",
    "\n",
    "from random import randint\n",
    "\n",
    "import numpy as np\n",
    "import torch"
   ]
  },
  {
   "cell_type": "code",
   "execution_count": null,
   "metadata": {},
   "outputs": [],
   "source": [
    "!curl -Lo infersent1.pkl https://dl.fbaipublicfiles.com/senteval/infersent/infersent1.pkl"
   ]
  },
  {
   "cell_type": "code",
   "execution_count": null,
   "metadata": {},
   "outputs": [],
   "source": [
    "!mkdir ../dataset/GloVe"
   ]
  },
  {
   "cell_type": "code",
   "execution_count": null,
   "metadata": {},
   "outputs": [],
   "source": [
    "!curl -Lo ../dataset/GloVe/glove.840B.300d.zip http://nlp.stanford.edu/data/glove.840B.300d.zip\n",
    "!unzip ../dataset/GloVe/glove.840B.300d.zip"
   ]
  },
  {
   "cell_type": "markdown",
   "metadata": {},
   "source": [
    "## Load model"
   ]
  },
  {
   "cell_type": "code",
   "execution_count": 3,
   "metadata": {},
   "outputs": [
    {
     "data": {
      "text/plain": [
       "IncompatibleKeys(missing_keys=[], unexpected_keys=[])"
      ]
     },
     "execution_count": 3,
     "metadata": {},
     "output_type": "execute_result"
    }
   ],
   "source": [
    "# Load model\n",
    "from models import InferSent\n",
    "model_version = 1\n",
    "MODEL_PATH = \"../encoder/infersent%s.pkl\" % model_version\n",
    "params_model = {'bsize': 64, 'word_emb_dim': 300, 'enc_lstm_dim': 2048,\n",
    "                'pool_type': 'max', 'dpout_model': 0.0, 'version': model_version}\n",
    "model = InferSent(params_model)\n",
    "model.load_state_dict(torch.load(MODEL_PATH))"
   ]
  },
  {
   "cell_type": "code",
   "execution_count": 4,
   "metadata": {},
   "outputs": [],
   "source": [
    "# Keep it on CPU or put it on GPU\n",
    "use_cuda = True\n",
    "model = model.cuda() if use_cuda else model"
   ]
  },
  {
   "cell_type": "code",
   "execution_count": 5,
   "metadata": {},
   "outputs": [],
   "source": [
    "# If infersent1 -> use GloVe embeddings. If infersent2 -> use InferSent embeddings.\n",
    "W2V_PATH = 'glove.840B.300d.txt' if model_version == 1 else '../dataset/fastText/crawl-300d-2M.vec'\n",
    "model.set_w2v_path(W2V_PATH)"
   ]
  },
  {
   "cell_type": "code",
   "execution_count": 6,
   "metadata": {},
   "outputs": [],
   "source": [
    "import pandas as pd\n",
    "import ast\n",
    "df = pd.read_csv('tokenized_tweets.csv')"
   ]
  },
  {
   "cell_type": "code",
   "execution_count": 7,
   "metadata": {},
   "outputs": [
    {
     "data": {
      "text/html": [
       "<div>\n",
       "<style scoped>\n",
       "    .dataframe tbody tr th:only-of-type {\n",
       "        vertical-align: middle;\n",
       "    }\n",
       "\n",
       "    .dataframe tbody tr th {\n",
       "        vertical-align: top;\n",
       "    }\n",
       "\n",
       "    .dataframe thead th {\n",
       "        text-align: right;\n",
       "    }\n",
       "</style>\n",
       "<table border=\"1\" class=\"dataframe\">\n",
       "  <thead>\n",
       "    <tr style=\"text-align: right;\">\n",
       "      <th></th>\n",
       "      <th>Unnamed: 0</th>\n",
       "      <th>id</th>\n",
       "      <th>favorite_count</th>\n",
       "      <th>retweet_count</th>\n",
       "      <th>text</th>\n",
       "      <th>time</th>\n",
       "      <th>user</th>\n",
       "      <th>party</th>\n",
       "      <th>filtered_w_stop_text</th>\n",
       "      <th>filtered_text</th>\n",
       "    </tr>\n",
       "  </thead>\n",
       "  <tbody>\n",
       "    <tr>\n",
       "      <th>0</th>\n",
       "      <td>0</td>\n",
       "      <td>1115311440989184000</td>\n",
       "      <td>12.0</td>\n",
       "      <td>2.0</td>\n",
       "      <td>Get well soon, Assemblyman. @SeanMRyan149 http...</td>\n",
       "      <td>2019-04-08 17:52:23</td>\n",
       "      <td>NYGovCuomo</td>\n",
       "      <td>1</td>\n",
       "      <td>['get', 'well', 'soon', 'assemblyman']</td>\n",
       "      <td>['get', 'well', 'soon', 'assemblyman']</td>\n",
       "    </tr>\n",
       "    <tr>\n",
       "      <th>1</th>\n",
       "      <td>1</td>\n",
       "      <td>1115298202092298241</td>\n",
       "      <td>133.0</td>\n",
       "      <td>39.0</td>\n",
       "      <td>This report is deeply alarming and goes agains...</td>\n",
       "      <td>2019-04-08 16:59:47</td>\n",
       "      <td>NYGovCuomo</td>\n",
       "      <td>1</td>\n",
       "      <td>['this', 'report', 'is', 'deeply', 'alarming',...</td>\n",
       "      <td>['report', 'deeply', 'alarming', 'goes', 'ever...</td>\n",
       "    </tr>\n",
       "    <tr>\n",
       "      <th>2</th>\n",
       "      <td>2</td>\n",
       "      <td>1114890416913092608</td>\n",
       "      <td>96.0</td>\n",
       "      <td>29.0</td>\n",
       "      <td>One of the big wins in the budget was the pass...</td>\n",
       "      <td>2019-04-07 13:59:23</td>\n",
       "      <td>NYGovCuomo</td>\n",
       "      <td>1</td>\n",
       "      <td>['one', 'of', 'the', 'big', 'wins', 'in', 'the...</td>\n",
       "      <td>['one', 'big', 'wins', 'budget', 'passage', 's...</td>\n",
       "    </tr>\n",
       "    <tr>\n",
       "      <th>3</th>\n",
       "      <td>3</td>\n",
       "      <td>1114667816941162497</td>\n",
       "      <td>169.0</td>\n",
       "      <td>75.0</td>\n",
       "      <td>We have to act quickly to fight climate change...</td>\n",
       "      <td>2019-04-06 23:14:51</td>\n",
       "      <td>NYGovCuomo</td>\n",
       "      <td>1</td>\n",
       "      <td>['we', 'have', 'to', 'act', 'quickly', 'to', '...</td>\n",
       "      <td>['act', 'quickly', 'fight', 'climate', 'change...</td>\n",
       "    </tr>\n",
       "    <tr>\n",
       "      <th>4</th>\n",
       "      <td>4</td>\n",
       "      <td>1114546662112923648</td>\n",
       "      <td>129.0</td>\n",
       "      <td>40.0</td>\n",
       "      <td>New York just make some important changes to o...</td>\n",
       "      <td>2019-04-06 15:13:26</td>\n",
       "      <td>NYGovCuomo</td>\n",
       "      <td>1</td>\n",
       "      <td>['new', 'york', 'just', 'make', 'some', 'impor...</td>\n",
       "      <td>['new', 'york', 'make', 'important', 'changes'...</td>\n",
       "    </tr>\n",
       "  </tbody>\n",
       "</table>\n",
       "</div>"
      ],
      "text/plain": [
       "   Unnamed: 0                   id  favorite_count  retweet_count  \\\n",
       "0           0  1115311440989184000            12.0            2.0   \n",
       "1           1  1115298202092298241           133.0           39.0   \n",
       "2           2  1114890416913092608            96.0           29.0   \n",
       "3           3  1114667816941162497           169.0           75.0   \n",
       "4           4  1114546662112923648           129.0           40.0   \n",
       "\n",
       "                                                text                 time  \\\n",
       "0  Get well soon, Assemblyman. @SeanMRyan149 http...  2019-04-08 17:52:23   \n",
       "1  This report is deeply alarming and goes agains...  2019-04-08 16:59:47   \n",
       "2  One of the big wins in the budget was the pass...  2019-04-07 13:59:23   \n",
       "3  We have to act quickly to fight climate change...  2019-04-06 23:14:51   \n",
       "4  New York just make some important changes to o...  2019-04-06 15:13:26   \n",
       "\n",
       "         user  party                               filtered_w_stop_text  \\\n",
       "0  NYGovCuomo      1             ['get', 'well', 'soon', 'assemblyman']   \n",
       "1  NYGovCuomo      1  ['this', 'report', 'is', 'deeply', 'alarming',...   \n",
       "2  NYGovCuomo      1  ['one', 'of', 'the', 'big', 'wins', 'in', 'the...   \n",
       "3  NYGovCuomo      1  ['we', 'have', 'to', 'act', 'quickly', 'to', '...   \n",
       "4  NYGovCuomo      1  ['new', 'york', 'just', 'make', 'some', 'impor...   \n",
       "\n",
       "                                       filtered_text  \n",
       "0             ['get', 'well', 'soon', 'assemblyman']  \n",
       "1  ['report', 'deeply', 'alarming', 'goes', 'ever...  \n",
       "2  ['one', 'big', 'wins', 'budget', 'passage', 's...  \n",
       "3  ['act', 'quickly', 'fight', 'climate', 'change...  \n",
       "4  ['new', 'york', 'make', 'important', 'changes'...  "
      ]
     },
     "execution_count": 7,
     "metadata": {},
     "output_type": "execute_result"
    }
   ],
   "source": [
    "df.head()"
   ]
  },
  {
   "cell_type": "code",
   "execution_count": 8,
   "metadata": {},
   "outputs": [],
   "source": [
    "df['text_full'] = df[\"filtered_text\"].apply(lambda x: \" \".join(ast.literal_eval(x)))"
   ]
  },
  {
   "cell_type": "code",
   "execution_count": 9,
   "metadata": {},
   "outputs": [
    {
     "name": "stdout",
     "output_type": "stream",
     "text": [
      "Requirement already satisfied: nltk in /home/ubuntu/miniconda3/envs/gluon/lib/python3.6/site-packages (3.4.1)\n",
      "Requirement already satisfied: six in /home/ubuntu/miniconda3/envs/gluon/lib/python3.6/site-packages (from nltk) (1.12.0)\n"
     ]
    }
   ],
   "source": [
    "!pip install nltk"
   ]
  },
  {
   "cell_type": "code",
   "execution_count": 10,
   "metadata": {},
   "outputs": [
    {
     "name": "stderr",
     "output_type": "stream",
     "text": [
      "[nltk_data] Downloading package punkt to /home/ubuntu/nltk_data...\n",
      "[nltk_data]   Package punkt is already up-to-date!\n"
     ]
    },
    {
     "data": {
      "text/plain": [
       "True"
      ]
     },
     "execution_count": 10,
     "metadata": {},
     "output_type": "execute_result"
    }
   ],
   "source": [
    "import nltk\n",
    "nltk.download('punkt')"
   ]
  },
  {
   "cell_type": "code",
   "execution_count": 11,
   "metadata": {},
   "outputs": [
    {
     "name": "stdout",
     "output_type": "stream",
     "text": [
      "Found 82098(/179459) words with w2v vectors\n",
      "Vocab size : 82098\n"
     ]
    }
   ],
   "source": [
    "# Load embeddings of K most frequent words\n",
    "#model.build_vocab_k_words(K=100000)\n",
    "#once we have the sentences ready\n",
    "model.build_vocab(df['text_full'])"
   ]
  },
  {
   "cell_type": "markdown",
   "metadata": {},
   "source": [
    "## Encode sentences"
   ]
  },
  {
   "cell_type": "code",
   "execution_count": 12,
   "metadata": {},
   "outputs": [],
   "source": [
    "# gpu mode : >> 1000 sentences/s\n",
    "# cpu mode : ~100 sentences/s"
   ]
  },
  {
   "cell_type": "code",
   "execution_count": 13,
   "metadata": {},
   "outputs": [
    {
     "name": "stdout",
     "output_type": "stream",
     "text": [
      "Nb words kept : 17116920/17746241 (96.5%)\n",
      "Speed : 1167.6 sentences/s (gpu mode, bsize=64)\n",
      "nb sentences encoded : 1261746\n"
     ]
    }
   ],
   "source": [
    "embeddings = model.encode(df['text_full'], verbose=True)\n",
    "print('nb sentences encoded : {0}'.format(len(embeddings)))"
   ]
  },
  {
   "cell_type": "markdown",
   "metadata": {},
   "source": [
    "# Visualization"
   ]
  },
  {
   "cell_type": "code",
   "execution_count": 14,
   "metadata": {},
   "outputs": [
    {
     "name": "stdout",
     "output_type": "stream",
     "text": [
      "Requirement already satisfied: sklearn in /home/ubuntu/miniconda3/envs/gluon/lib/python3.6/site-packages (0.0)\n",
      "Requirement already satisfied: scikit-learn in /home/ubuntu/miniconda3/envs/gluon/lib/python3.6/site-packages (from sklearn) (0.20.3)\n",
      "Requirement already satisfied: scipy>=0.13.3 in /home/ubuntu/miniconda3/envs/gluon/lib/python3.6/site-packages (from scikit-learn->sklearn) (1.2.1)\n",
      "Requirement already satisfied: numpy>=1.8.2 in /home/ubuntu/miniconda3/envs/gluon/lib/python3.6/site-packages (from scikit-learn->sklearn) (1.14.6)\n",
      "Requirement already satisfied: matplotlib in /home/ubuntu/miniconda3/envs/gluon/lib/python3.6/site-packages (2.2.2)\n",
      "Requirement already satisfied: numpy>=1.7.1 in /home/ubuntu/miniconda3/envs/gluon/lib/python3.6/site-packages (from matplotlib) (1.14.6)\n",
      "Requirement already satisfied: cycler>=0.10 in /home/ubuntu/miniconda3/envs/gluon/lib/python3.6/site-packages (from matplotlib) (0.10.0)\n",
      "Requirement already satisfied: pyparsing!=2.0.4,!=2.1.2,!=2.1.6,>=2.0.1 in /home/ubuntu/miniconda3/envs/gluon/lib/python3.6/site-packages (from matplotlib) (2.4.0)\n",
      "Requirement already satisfied: python-dateutil>=2.1 in /home/ubuntu/miniconda3/envs/gluon/lib/python3.6/site-packages (from matplotlib) (2.8.0)\n",
      "Requirement already satisfied: pytz in /home/ubuntu/miniconda3/envs/gluon/lib/python3.6/site-packages (from matplotlib) (2019.1)\n",
      "Requirement already satisfied: six>=1.10 in /home/ubuntu/miniconda3/envs/gluon/lib/python3.6/site-packages (from matplotlib) (1.12.0)\n",
      "Requirement already satisfied: kiwisolver>=1.0.1 in /home/ubuntu/miniconda3/envs/gluon/lib/python3.6/site-packages (from matplotlib) (1.1.0)\n",
      "Requirement already satisfied: setuptools in /home/ubuntu/miniconda3/envs/gluon/lib/python3.6/site-packages (from kiwisolver>=1.0.1->matplotlib) (41.0.1)\n"
     ]
    }
   ],
   "source": [
    "!pip install sklearn\n",
    "!pip install matplotlib"
   ]
  },
  {
   "cell_type": "code",
   "execution_count": 15,
   "metadata": {},
   "outputs": [],
   "source": [
    "import numpy as np\n",
    "import pandas as pd \n",
    "import sklearn\n",
    "import matplotlib.pyplot as plt\n",
    "from sklearn import datasets\n",
    "from sklearn.manifold import TSNE"
   ]
  },
  {
   "cell_type": "code",
   "execution_count": 16,
   "metadata": {},
   "outputs": [
    {
     "data": {
      "text/plain": [
       "(1261746, 4096)"
      ]
     },
     "execution_count": 16,
     "metadata": {},
     "output_type": "execute_result"
    }
   ],
   "source": [
    "embeddings.shape"
   ]
  },
  {
   "cell_type": "markdown",
   "metadata": {},
   "source": [
    "Since we have over 1 million pieces of data in 4096 dimensions, it will take extremely long to use dimensionality reduction technique on the whole data. Therefore, we will sample a proportion of the data and run T-SNE on this data. The visualization is only for the purpose of showing that the language used in the tweet directly contributes to the reaction you get on the internet (likes, retweets), so a small sample should be sufficient to show this."
   ]
  },
  {
   "cell_type": "code",
   "execution_count": 18,
   "metadata": {},
   "outputs": [
    {
     "name": "stderr",
     "output_type": "stream",
     "text": [
      "IOPub data rate exceeded.\n",
      "The notebook server will temporarily stop sending output\n",
      "to the client in order to avoid crashing it.\n",
      "To change this limit, set the config variable\n",
      "`--NotebookApp.iopub_data_rate_limit`.\n",
      "\n",
      "Current values:\n",
      "NotebookApp.iopub_data_rate_limit=1000000.0 (bytes/sec)\n",
      "NotebookApp.rate_limit_window=3.0 (secs)\n",
      "\n"
     ]
    }
   ],
   "source": [
    "# select a random sample without replacement\n",
    "from random import seed\n",
    "from random import sample\n",
    "\n",
    "# seed random number generator\n",
    "seed(1)\n",
    "# prepare a sequence\n",
    "sequence = [i for i in range(1261746)]\n",
    "print(sequence)\n",
    "# select a subset without replacement\n",
    "subset = sample(sequence, 1000)"
   ]
  },
  {
   "cell_type": "code",
   "execution_count": 24,
   "metadata": {},
   "outputs": [],
   "source": [
    "favorites = np.array(df.favorite_count)\n",
    "retweets = np.array(df.retweet_count)"
   ]
  },
  {
   "cell_type": "markdown",
   "metadata": {},
   "source": [
    "Let's look at one particular politician's twitter account."
   ]
  },
  {
   "cell_type": "code",
   "execution_count": 123,
   "metadata": {},
   "outputs": [],
   "source": [
    "bernie = embeddings[df.user == 'SenSanders']\n",
    "bernie_fav = favorites[df.user == 'SenSanders']\n",
    "bernie_ret = retweets[df.user == 'SenSanders']"
   ]
  },
  {
   "cell_type": "code",
   "execution_count": 124,
   "metadata": {},
   "outputs": [],
   "source": [
    "#running TSNE to reduce dimensions to 2\n",
    "arr_embedded = TSNE(n_components=2).fit_transform(bernie)"
   ]
  },
  {
   "cell_type": "code",
   "execution_count": 125,
   "metadata": {},
   "outputs": [
    {
     "data": {
      "text/plain": [
       "(3217, 2)"
      ]
     },
     "execution_count": 125,
     "metadata": {},
     "output_type": "execute_result"
    }
   ],
   "source": [
    "arr_embedded.shape"
   ]
  },
  {
   "cell_type": "code",
   "execution_count": 129,
   "metadata": {},
   "outputs": [],
   "source": [
    "#normalizing favorites and retweets\n",
    "fav_norm = (bernie_fav - np.min(bernie_fav))/(np.max(bernie_fav) - np.min(bernie_fav))\n",
    "ret_norm = (bernie_ret - np.min(bernie_ret))/(np.max(bernie_ret) - np.min(bernie_ret))"
   ]
  },
  {
   "cell_type": "code",
   "execution_count": 147,
   "metadata": {},
   "outputs": [],
   "source": [
    "ret_ls = []\n",
    "dat_ls = []\n",
    "for i in range(len(ret_norm)):\n",
    "    if ret_norm[i] > 0.05:\n",
    "        ret_ls.append(ret_norm[i])\n",
    "        dat_ls.append(arr_embedded[i])\n",
    "dat_ls = np.array(dat_ls)"
   ]
  },
  {
   "cell_type": "code",
   "execution_count": 149,
   "metadata": {},
   "outputs": [
    {
     "data": {
      "image/png": "[encoded data removed]",
      "text/plain": [
       "<Figure size 432x288 with 2 Axes>"
      ]
     },
     "metadata": {
      "needs_background": "light"
     },
     "output_type": "display_data"
    }
   ],
   "source": [
    "from matplotlib import pyplot as plt\n",
    "import seaborn as sns\n",
    "\n",
    "cmap = sns.cubehelix_palette(as_cmap=True)\n",
    "\n",
    "f, ax = plt.subplots()\n",
    "points = ax.scatter(dat_ls[:,0], dat_ls[:,1], c=ret_ls, s=30, cmap=cmap)\n",
    "f.colorbar(points)\n",
    "plt.title(\"TSNE plot of Bernie's tweets, colorized by #retweets\")\n",
    "plt.xlabel(\"TSNE-1\")\n",
    "plt.ylabel(\"TSNE-2\")\n",
    "plt.show()"
   ]
  },
  {
   "cell_type": "code",
   "execution_count": 150,
   "metadata": {},
   "outputs": [],
   "source": [
    "fav_ls = []\n",
    "dat_ls = []\n",
    "for i in range(len(fav_norm)):\n",
    "    if fav_norm[i] > 0.05:\n",
    "        fav_ls.append(fav_norm[i])\n",
    "        dat_ls.append(arr_embedded[i])\n",
    "dat_ls = np.array(dat_ls)"
   ]
  },
  {
   "cell_type": "code",
   "execution_count": 152,
   "metadata": {},
   "outputs": [
    {
     "data": {
      "image/png": "[encoded data removed]",
      "text/plain": [
       "<Figure size 432x288 with 2 Axes>"
      ]
     },
     "metadata": {
      "needs_background": "light"
     },
     "output_type": "display_data"
    }
   ],
   "source": [
    "from matplotlib import pyplot as plt\n",
    "import seaborn as sns\n",
    "\n",
    "cmap = sns.cubehelix_palette(as_cmap=True)\n",
    "\n",
    "f, ax = plt.subplots()\n",
    "points = ax.scatter(dat_ls[:,0], dat_ls[:,1], c=fav_ls, s=30, cmap=cmap)\n",
    "f.colorbar(points)\n",
    "plt.title(\"TSNE plot of Bernie's tweets, colorized by #favorites\")\n",
    "plt.xlabel(\"TSNE-1\")\n",
    "plt.ylabel(\"TSNE-2\")\n",
    "plt.show()"
   ]
  },
  {
   "cell_type": "markdown",
   "metadata": {},
   "source": [
    "# MLP"
   ]
  },
  {
   "cell_type": "code",
   "execution_count": null,
   "metadata": {},
   "outputs": [],
   "source": [
    "!pip install d2l\n",
    "!pip install sklearn"
   ]
  },
  {
   "cell_type": "code",
   "execution_count": null,
   "metadata": {},
   "outputs": [],
   "source": [
    "import mxnet as mx\n",
    "ctx = mx.gpu()"
   ]
  },
  {
   "cell_type": "code",
   "execution_count": null,
   "metadata": {},
   "outputs": [],
   "source": [
    "df['party'][df['party'] == -1] = 0"
   ]
  },
  {
   "cell_type": "code",
   "execution_count": null,
   "metadata": {},
   "outputs": [],
   "source": [
    "import sys\n",
    "sys.path.insert(0, '..')\n",
    "\n",
    "import d2l\n",
    "from mxnet import gluon, init\n",
    "from mxnet.gluon import loss as gloss, nn\n",
    "from sklearn.model_selection import train_test_split\n",
    "from mxnet import gluon, init, nd, autograd\n",
    "import time"
   ]
  },
  {
   "cell_type": "code",
   "execution_count": null,
   "metadata": {},
   "outputs": [],
   "source": [
    "X_train, X_test, y_train, y_test = train_test_split(embeddings, df['party'], test_size=0.2, random_state=42)"
   ]
  },
  {
   "cell_type": "code",
   "execution_count": null,
   "metadata": {},
   "outputs": [],
   "source": [
    "def train(train_iter, test_iter, net, loss, trainer, ctx, num_epochs, lr_period):\n",
    "    \"\"\"Train and evaluate a model.\"\"\"\n",
    "    print('training on', ctx)\n",
    "    if isinstance(ctx, mx.Context):\n",
    "        ctx = [ctx]\n",
    "    for epoch in range(num_epochs):\n",
    "        train_l_sum, train_acc_sum, n, m, start = 0.0, 0.0, 0, 0, time.time()\n",
    "        if epoch > 0 and epoch % lr_period == 0:\n",
    "             trainer.set_learning_rate(trainer.learning_rate * .85)\n",
    "        for i, batch in enumerate(train_iter):\n",
    "            Xs, ys, batch_size = _get_batch(batch, ctx)\n",
    "            ls = []\n",
    "            with autograd.record():\n",
    "                y_hats = [net(X) for X in Xs]\n",
    "                ls = [loss(y_hat, y) for y_hat, y in zip(y_hats, ys)]\n",
    "            for l in ls:\n",
    "                l.backward()\n",
    "            trainer.step(batch_size)\n",
    "            train_l_sum += sum([l.sum().asscalar() for l in ls])\n",
    "            n += sum([l.size for l in ls])\n",
    "            train_acc_sum += sum([(y_hat.argmax(axis=1) == y).sum().asscalar()\n",
    "                                  for y_hat, y in zip(y_hats, ys)])\n",
    "            m += sum([y.size for y in ys])\n",
    "        test_acc = evaluate_accuracy(test_iter, net, ctx)\n",
    "        print('epoch %d, loss %.4f, train acc %.3f, test acc %.3f, '\n",
    "              'time %.1f sec'\n",
    "              % (epoch + 1, train_l_sum / n, train_acc_sum / m, test_acc,\n",
    "                 time.time() - start))\n"
   ]
  },
  {
   "cell_type": "code",
   "execution_count": null,
   "metadata": {},
   "outputs": [],
   "source": [
    "def _get_batch(batch, ctx):\n",
    "    \"\"\"Return features and labels on ctx.\"\"\"\n",
    "    features, labels = batch\n",
    "    if labels.dtype != features.dtype:\n",
    "        labels = labels.astype(features.dtype)\n",
    "    return (gutils.split_and_load(features, ctx),\n",
    "            gutils.split_and_load(labels, ctx), features.shape[0])\n",
    "\n",
    "def evaluate_accuracy(data_iter, net, ctx=[mx.cpu()]):\n",
    "    \"\"\"Evaluate accuracy of a model on the given data set.\"\"\"\n",
    "    if isinstance(ctx, mx.Context):\n",
    "        ctx = [ctx]\n",
    "    acc_sum, n = nd.array([0]), 0\n",
    "    for batch in data_iter:\n",
    "        features, labels, _ = _get_batch(batch, ctx)\n",
    "        for X, y in zip(features, labels):\n",
    "            y = y.astype('float32')\n",
    "            acc_sum += (net(X).argmax(axis=1) == y).sum().copyto(mx.cpu())\n",
    "            n += y.size\n",
    "        acc_sum.wait_to_read()\n",
    "    return acc_sum.asscalar() / n"
   ]
  },
  {
   "cell_type": "code",
   "execution_count": null,
   "metadata": {},
   "outputs": [],
   "source": [
    "net = nn.HybridSequential()\n",
    "net.add(nn.Dense(2048, activation='relu'))\n",
    "net.add(gluon.nn.Dropout(0.25))\n",
    "net.add(nn.Dense(512, activation='relu'))\n",
    "net.add(nn.Dense(2))\n",
    "#     net.initialize(init.Normal(sigma=0.01))\n",
    "net.initialize(init.Xavier(), ctx=ctx)\n",
    "net.hybridize()\n",
    "\n",
    "# net.initialize(init.Normal(sigma=0.01))\n",
    "\n",
    "batch_size = 128\n",
    "train_set = gdata.ArrayDataset(X_train, nd.array(y_train))\n",
    "test_set = gdata.ArrayDataset(X_test, nd.array(y_test))\n",
    "train_iter = gdata.DataLoader(train_set, batch_size, shuffle=True)\n",
    "test_iter = gdata.DataLoader(test_set, batch_size)\n",
    "\n",
    "loss = gloss.SoftmaxCrossEntropyLoss()\n",
    "trainer = gluon.Trainer(net.collect_params(), 'sgd', {'learning_rate': 0.2, 'wd': 0.001})\n",
    "num_epochs = 150\n",
    "# d2l.train_ch3(net, train_iter, test_iter, loss, num_epochs, batch_size, None,\n",
    "#               None, trainer)"
   ]
  },
  {
   "cell_type": "code",
   "execution_count": null,
   "metadata": {},
   "outputs": [],
   "source": [
    "train(train_iter, test_iter, net, gloss.SoftmaxCrossEntropyLoss(), trainer, ctx, num_epochs, 4)"
   ]
  }
 ],
 "metadata": {
  "anaconda-cloud": {},
  "kernelspec": {
   "display_name": "Python 3",
   "language": "python",
   "name": "python3"
  },
  "language_info": {
   "codemirror_mode": {
    "name": "ipython",
    "version": 3
   },
   "file_extension": ".py",
   "mimetype": "text/x-python",
   "name": "python",
   "nbconvert_exporter": "python",
   "pygments_lexer": "ipython3",
   "version": "3.6.5"
  }
 },
 "nbformat": 4,
 "nbformat_minor": 1
}
